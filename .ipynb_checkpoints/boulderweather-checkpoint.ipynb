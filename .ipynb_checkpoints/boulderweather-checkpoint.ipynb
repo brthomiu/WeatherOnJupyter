{
 "cells": [
  {
   "cell_type": "code",
   "execution_count": 1,
   "metadata": {},
   "outputs": [],
   "source": [
    "import pandas as pd\n",
    "import matplotlib.pyplot as plt"
   ]
  },
  {
   "cell_type": "code",
   "execution_count": 4,
   "metadata": {},
   "outputs": [],
   "source": [
    "df = pd.read_csv(\"boulderweather.csv\")"
   ]
  },
  {
   "cell_type": "code",
   "execution_count": 6,
   "metadata": {},
   "outputs": [
    {
     "data": {
      "text/plain": [
       "<bound method DataFrame.info of                       DATE  HourlyDewPointTemperature  \\\n",
       "0      2022-01-01T00:15:00                       10.0   \n",
       "1      2022-01-01T00:35:00                       10.0   \n",
       "2      2022-01-01T00:55:00                        9.0   \n",
       "3      2022-01-01T01:15:00                        9.0   \n",
       "4      2022-01-01T01:35:00                        9.0   \n",
       "...                    ...                        ...   \n",
       "12604  2022-06-22T23:55:00                       41.0   \n",
       "12605  2022-06-22T23:59:00                        NaN   \n",
       "12606  2022-06-23T00:15:00                       41.0   \n",
       "12607  2022-06-23T00:35:00                       36.0   \n",
       "12608  2022-06-23T00:55:00                       37.0   \n",
       "\n",
       "       HourlyDryBulbTemperature  HourlyPrecipitation HourlyPresentWeatherType  \\\n",
       "0                          12.0                  NaN                      NaN   \n",
       "1                          12.0                  NaN                      NaN   \n",
       "2                          12.0                  NaN                      NaN   \n",
       "3                          10.0                  NaN                      NaN   \n",
       "4                          10.0                  NaN                      NaN   \n",
       "...                         ...                  ...                      ...   \n",
       "12604                      63.0                  NaN                      NaN   \n",
       "12605                       NaN                  NaN                      NaN   \n",
       "12606                      63.0                  NaN                      NaN   \n",
       "12607                      64.0                  NaN                      NaN   \n",
       "12608                      64.0                  NaN                      NaN   \n",
       "\n",
       "       HourlyRelativeHumidity HourlySkyConditions  HourlyStationPressure  \\\n",
       "0                        92.0  BKN:07 9 OVC:08 13                  24.43   \n",
       "1                        92.0            OVC:08 9                  24.44   \n",
       "2                        85.0            OVC:08 9                  24.44   \n",
       "3                        92.0            OVC:08 9                  24.44   \n",
       "4                        92.0            OVC:08 9                  24.44   \n",
       "...                       ...                 ...                    ...   \n",
       "12604                    45.0              CLR:00                  24.79   \n",
       "12605                     NaN                 NaN                    NaN   \n",
       "12606                    45.0              CLR:00                  24.79   \n",
       "12607                    34.0              CLR:00                  24.78   \n",
       "12608                    37.0              CLR:00                  24.78   \n",
       "\n",
       "       HourlyVisibility  HourlyWetBulbTemperature HourlyWindDirection  \\\n",
       "0                   NaN                      11.0                 050   \n",
       "1                   NaN                      11.0                 050   \n",
       "2                   NaN                      11.0                 030   \n",
       "3                   NaN                      10.0                 020   \n",
       "4                   NaN                      10.0                 040   \n",
       "...                 ...                       ...                 ...   \n",
       "12604              10.0                      51.0                 000   \n",
       "12605               NaN                       NaN                 NaN   \n",
       "12606              10.0                      51.0                 180   \n",
       "12607              10.0                      49.0                 200   \n",
       "12608              10.0                      50.0                 000   \n",
       "\n",
       "      HourlyWindGustSpeed  HourlyWindSpeed  Sunrise  Sunset  \n",
       "0                     NaN              8.0      NaN     NaN  \n",
       "1                     NaN              5.0      NaN     NaN  \n",
       "2                     NaN              5.0      NaN     NaN  \n",
       "3                     NaN              5.0      NaN     NaN  \n",
       "4                     NaN              5.0      NaN     NaN  \n",
       "...                   ...              ...      ...     ...  \n",
       "12604                 NaN              0.0      NaN     NaN  \n",
       "12605                 NaN              NaN    432.0  1933.0  \n",
       "12606                 NaN              3.0      NaN     NaN  \n",
       "12607                 NaN              5.0      NaN     NaN  \n",
       "12608                 NaN              0.0      NaN     NaN  \n",
       "\n",
       "[12609 rows x 15 columns]>"
      ]
     },
     "execution_count": 6,
     "metadata": {},
     "output_type": "execute_result"
    }
   ],
   "source": [
    "df.info"
   ]
  },
  {
   "cell_type": "code",
   "execution_count": 8,
   "metadata": {},
   "outputs": [
    {
     "ename": "TypeError",
     "evalue": "no numeric data to plot",
     "output_type": "error",
     "traceback": [
      "\u001b[0;31m---------------------------------------------------------------------------\u001b[0m",
      "\u001b[0;31mTypeError\u001b[0m                                 Traceback (most recent call last)",
      "\u001b[1;32m/workspaces/Pandas3/boulderweather.ipynb Cell 4'\u001b[0m in \u001b[0;36m<cell line: 1>\u001b[0;34m()\u001b[0m\n\u001b[0;32m----> <a href='vscode-notebook-cell://dev-container%2B7b22686f737450617468223a222f686f6d652f627261642f446f63756d656e74732f5265706f7369746f726965732f50616e64617333222c226c6f63616c446f636b6572223a66616c73652c2273657474696e6773223a7b22636f6e74657874223a226465736b746f702d6c696e7578227d7d/workspaces/Pandas3/boulderweather.ipynb#ch0000003vscode-remote?line=0'>1</a>\u001b[0m df\u001b[39m.\u001b[39;49mplot(x\u001b[39m=\u001b[39;49m\u001b[39m\"\u001b[39;49m\u001b[39mHourlyDryBulbTemperature\u001b[39;49m\u001b[39m\"\u001b[39;49m, y\u001b[39m=\u001b[39;49m\u001b[39m\"\u001b[39;49m\u001b[39mDATE\u001b[39;49m\u001b[39m\"\u001b[39;49m)\n",
      "File \u001b[0;32m~/.local/lib/python3.10/site-packages/pandas/plotting/_core.py:972\u001b[0m, in \u001b[0;36mPlotAccessor.__call__\u001b[0;34m(self, *args, **kwargs)\u001b[0m\n\u001b[1;32m    969\u001b[0m             label_name \u001b[39m=\u001b[39m label_kw \u001b[39mor\u001b[39;00m data\u001b[39m.\u001b[39mcolumns\n\u001b[1;32m    970\u001b[0m             data\u001b[39m.\u001b[39mcolumns \u001b[39m=\u001b[39m label_name\n\u001b[0;32m--> 972\u001b[0m \u001b[39mreturn\u001b[39;00m plot_backend\u001b[39m.\u001b[39;49mplot(data, kind\u001b[39m=\u001b[39;49mkind, \u001b[39m*\u001b[39;49m\u001b[39m*\u001b[39;49mkwargs)\n",
      "File \u001b[0;32m~/.local/lib/python3.10/site-packages/pandas/plotting/_matplotlib/__init__.py:71\u001b[0m, in \u001b[0;36mplot\u001b[0;34m(data, kind, **kwargs)\u001b[0m\n\u001b[1;32m     69\u001b[0m         kwargs[\u001b[39m\"\u001b[39m\u001b[39max\u001b[39m\u001b[39m\"\u001b[39m] \u001b[39m=\u001b[39m \u001b[39mgetattr\u001b[39m(ax, \u001b[39m\"\u001b[39m\u001b[39mleft_ax\u001b[39m\u001b[39m\"\u001b[39m, ax)\n\u001b[1;32m     70\u001b[0m plot_obj \u001b[39m=\u001b[39m PLOT_CLASSES[kind](data, \u001b[39m*\u001b[39m\u001b[39m*\u001b[39mkwargs)\n\u001b[0;32m---> 71\u001b[0m plot_obj\u001b[39m.\u001b[39;49mgenerate()\n\u001b[1;32m     72\u001b[0m plot_obj\u001b[39m.\u001b[39mdraw()\n\u001b[1;32m     73\u001b[0m \u001b[39mreturn\u001b[39;00m plot_obj\u001b[39m.\u001b[39mresult\n",
      "File \u001b[0;32m~/.local/lib/python3.10/site-packages/pandas/plotting/_matplotlib/core.py:327\u001b[0m, in \u001b[0;36mMPLPlot.generate\u001b[0;34m(self)\u001b[0m\n\u001b[1;32m    325\u001b[0m \u001b[39mdef\u001b[39;00m \u001b[39mgenerate\u001b[39m(\u001b[39mself\u001b[39m):\n\u001b[1;32m    326\u001b[0m     \u001b[39mself\u001b[39m\u001b[39m.\u001b[39m_args_adjust()\n\u001b[0;32m--> 327\u001b[0m     \u001b[39mself\u001b[39;49m\u001b[39m.\u001b[39;49m_compute_plot_data()\n\u001b[1;32m    328\u001b[0m     \u001b[39mself\u001b[39m\u001b[39m.\u001b[39m_setup_subplots()\n\u001b[1;32m    329\u001b[0m     \u001b[39mself\u001b[39m\u001b[39m.\u001b[39m_make_plot()\n",
      "File \u001b[0;32m~/.local/lib/python3.10/site-packages/pandas/plotting/_matplotlib/core.py:506\u001b[0m, in \u001b[0;36mMPLPlot._compute_plot_data\u001b[0;34m(self)\u001b[0m\n\u001b[1;32m    504\u001b[0m \u001b[39m# no non-numeric frames or series allowed\u001b[39;00m\n\u001b[1;32m    505\u001b[0m \u001b[39mif\u001b[39;00m is_empty:\n\u001b[0;32m--> 506\u001b[0m     \u001b[39mraise\u001b[39;00m \u001b[39mTypeError\u001b[39;00m(\u001b[39m\"\u001b[39m\u001b[39mno numeric data to plot\u001b[39m\u001b[39m\"\u001b[39m)\n\u001b[1;32m    508\u001b[0m \u001b[39mself\u001b[39m\u001b[39m.\u001b[39mdata \u001b[39m=\u001b[39m numeric_data\u001b[39m.\u001b[39mapply(\u001b[39mself\u001b[39m\u001b[39m.\u001b[39m_convert_to_ndarray)\n",
      "\u001b[0;31mTypeError\u001b[0m: no numeric data to plot"
     ]
    }
   ],
   "source": [
    "df.plot(x=\"HourlyDryBulbTemperature\", y=\"HourlyWetBulbTemperature\")"
   ]
  }
 ],
 "metadata": {
  "kernelspec": {
   "display_name": "Python 3 (ipykernel)",
   "language": "python",
   "name": "python3"
  },
  "language_info": {
   "codemirror_mode": {
    "name": "ipython",
    "version": 3
   },
   "file_extension": ".py",
   "mimetype": "text/x-python",
   "name": "python",
   "nbconvert_exporter": "python",
   "pygments_lexer": "ipython3",
   "version": "3.10.4"
  },
  "vscode": {
   "interpreter": {
    "hash": "949777d72b0d2535278d3dc13498b2535136f6dfe0678499012e853ee9abcab1"
   }
  }
 },
 "nbformat": 4,
 "nbformat_minor": 2
}
